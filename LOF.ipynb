{
 "cells": [
  {
   "cell_type": "code",
   "execution_count": 14,
   "metadata": {},
   "outputs": [
    {
     "name": "stdout",
     "output_type": "stream",
     "text": [
      "Proximity Matrix\n",
      "    1         2         3         4         5     \n",
      "  0.0000   13.4536   278.6001  74.2159    1.4142  \n",
      " 13.4536    0.0000   265.1660  63.5059   14.8661  \n",
      " 278.6001  265.1660   0.0000   218.3254  280.0143 \n",
      " 74.2159   63.5059   218.3254   0.0000   75.4321  \n",
      "  1.4142   14.8661   280.0143  75.4321    0.0000  \n"
     ]
    }
   ],
   "source": [
    "#define data\n",
    "arrx = [3,13,200,21,2]\n",
    "arry = [3,12,200,75,2]\n",
    "n = 3\n",
    "\n",
    "#initial array\n",
    "asc = []\n",
    "prox_m = []\n",
    "ad_data = []\n",
    "ar = []\n",
    "\n",
    "#build proximity matrix\n",
    "for i in range(len(arrx)):\n",
    "    arri = []\n",
    "    for j in range(len(arrx)):\n",
    "        field = ((arrx[i]-arrx[j])**2+(arry[i]-arry[j])**2)**(0.5)\n",
    "        arri.append([field,j])\n",
    "    prox_m.append(arri)\n",
    "    \n",
    "#printing proximity matrix\n",
    "print(\"Proximity Matrix\")\n",
    "data = []\n",
    "for i in range(len(arrx)):\n",
    "    data.append(i+1)\n",
    "row_format =\"{:^10.4f}\" * (len(prox_m))\n",
    "for i in range(len(data)):\n",
    "    print(\"{:^10}\".format(data[i]),end=\"\")\n",
    "print()\n",
    "for l in prox_m:\n",
    "    print(row_format.format(*[e[0] for e in l]))\n",
    "\n",
    "    \n",
    "#sort nearest data value of proximity matrix\n",
    "for i in range(len(prox_m)):\n",
    "    x = prox_m[i]\n",
    "    x.sort()\n",
    "    asc.append(x)\n",
    "    \n",
    "\n",
    "#average density \n",
    "for i in range(len(prox_m)):\n",
    "    a = 0\n",
    "    for j in range(n+1):\n",
    "        a += asc[i][j][0]\n",
    "    ad = 3/a\n",
    "    ad_data.append(ad)\n",
    "    \n",
    "\n",
    "#find list of n nearest data to data-i\n",
    "vr = []\n",
    "for i in range(len(prox_m)):\n",
    "    v = []\n",
    "    for j in range(n+1):\n",
    "        val = prox_m[i][j][1]\n",
    "        v.append(val)\n",
    "    vr.append(v)\n",
    "\n",
    "    \n",
    "#average relative density\n",
    "for i in range(len(vr)):\n",
    "    av = 0\n",
    "    for j in range(n+1):\n",
    "        v = vr[i][j]\n",
    "        if(j != 0): av += ad_data[v]\n",
    "    avr = av/3/ad_data[i]\n",
    "    ar.append([avr,i])"
   ]
  },
  {
   "cell_type": "code",
   "execution_count": 15,
   "metadata": {},
   "outputs": [
    {
     "name": "stdout",
     "output_type": "stream",
     "text": [
      "\n",
      "Nearest Data\n",
      "      n-Data\t is sorted by index of 3-nearest data of data-i\n",
      "\t 1 \t [0, 4, 1, 3]\n",
      "\t 2 \t [1, 0, 4, 3]\n",
      "\t 3 \t [2, 3, 1, 0]\n",
      "\t 4 \t [3, 1, 0, 4]\n",
      "\t 5 \t [4, 0, 1, 3]\n",
      "\n",
      "Average Density\n",
      "      n-Data\t Nilai Avg Density\n",
      "\t 1 \t 0.03368\n",
      "\t 2 \t 0.03267\n",
      "\t 3 \t 0.00394\n",
      "\t 4 \t 0.01407\n",
      "\t 5 \t 0.03271\n",
      "\n",
      "Average Relative Density\n",
      "      n-Data\t Nilai Avg RD\n",
      "\t 1 \t 0.78647\n",
      "\t 2 \t 0.82094\n",
      "\t 3 \t 6.80981\n",
      "\t 4 \t 2.34606\n",
      "\t 5 \t 0.81951\n"
     ]
    }
   ],
   "source": [
    "#print nearest data\n",
    "print(\"\\nNearest Data\")\n",
    "print(\"      n-Data\\t is sorted by index of \" + str(n) + \"-nearest data of data-i\")\n",
    "for e in range(len(ad_data)):\n",
    "    print(\"\\t\", e+1 , \"\\t\" , vr[e])\n",
    "\n",
    "#print average density\n",
    "print(\"\\nAverage Density\")\n",
    "print(\"      n-Data\\t Nilai Avg Density\")\n",
    "for e in range(len(ad_data)):\n",
    "    print(\"\\t\", e+1 , \"\\t\" , round(ad_data[e],5))\n",
    "\n",
    "#print average relative density\n",
    "print(\"\\nAverage Relative Density\")\n",
    "print(\"      n-Data\\t Nilai Avg RD\")\n",
    "for e in range(len(ar)):\n",
    "    print(\"\\t\", e+1, \"\\t\", round(ar[e][0],5))"
   ]
  }
 ],
 "metadata": {
  "kernelspec": {
   "display_name": "Python 3",
   "language": "python",
   "name": "python3"
  },
  "language_info": {
   "codemirror_mode": {
    "name": "ipython",
    "version": 3
   },
   "file_extension": ".py",
   "mimetype": "text/x-python",
   "name": "python",
   "nbconvert_exporter": "python",
   "pygments_lexer": "ipython3",
   "version": "3.8.3"
  }
 },
 "nbformat": 4,
 "nbformat_minor": 4
}
